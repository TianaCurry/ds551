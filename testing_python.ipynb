{
 "cells": [
  {
   "attachments": {},
   "cell_type": "markdown",
   "metadata": {},
   "source": [
    "## <center>Exploratory Data Anylsis</center>\n",
    "### <center>HW01 AQI dataset</center>\n"
   ]
  },
  {
   "cell_type": "code",
   "execution_count": 10,
   "metadata": {},
   "outputs": [],
   "source": [
    "import sys\n",
    "import pandas as pd\n",
    "import requests\n",
    "import json"
   ]
  },
  {
   "cell_type": "code",
   "execution_count": 19,
   "metadata": {},
   "outputs": [
    {
     "data": {
      "text/plain": [
       "'/Users/tianacurry/Documents/GitHub/ds551'"
      ]
     },
     "execution_count": 19,
     "metadata": {},
     "output_type": "execute_result"
    }
   ],
   "source": [
    "pwd"
   ]
  },
  {
   "cell_type": "code",
   "execution_count": 12,
   "metadata": {},
   "outputs": [
    {
     "data": {
      "text/plain": [
       "'3.9.2 (default, Nov  6 2022, 19:17:22) \\n[Clang 13.1.6 (clang-1316.0.21.2.5)]'"
      ]
     },
     "execution_count": 12,
     "metadata": {},
     "output_type": "execute_result"
    }
   ],
   "source": [
    "sys.version"
   ]
  },
  {
   "cell_type": "code",
   "execution_count": 13,
   "metadata": {},
   "outputs": [
    {
     "data": {
      "text/html": [
       "<div>\n",
       "<style scoped>\n",
       "    .dataframe tbody tr th:only-of-type {\n",
       "        vertical-align: middle;\n",
       "    }\n",
       "\n",
       "    .dataframe tbody tr th {\n",
       "        vertical-align: top;\n",
       "    }\n",
       "\n",
       "    .dataframe thead th {\n",
       "        text-align: right;\n",
       "    }\n",
       "</style>\n",
       "<table border=\"1\" class=\"dataframe\">\n",
       "  <thead>\n",
       "    <tr style=\"text-align: right;\">\n",
       "      <th></th>\n",
       "      <th>Date</th>\n",
       "      <th>Country</th>\n",
       "      <th>Status</th>\n",
       "      <th>AQI Value</th>\n",
       "    </tr>\n",
       "  </thead>\n",
       "  <tbody>\n",
       "    <tr>\n",
       "      <th>0</th>\n",
       "      <td>2022-07-21</td>\n",
       "      <td>Albania</td>\n",
       "      <td>Good</td>\n",
       "      <td>14</td>\n",
       "    </tr>\n",
       "    <tr>\n",
       "      <th>1</th>\n",
       "      <td>2022-07-21</td>\n",
       "      <td>Algeria</td>\n",
       "      <td>Moderate</td>\n",
       "      <td>65</td>\n",
       "    </tr>\n",
       "    <tr>\n",
       "      <th>2</th>\n",
       "      <td>2022-07-21</td>\n",
       "      <td>Andorra</td>\n",
       "      <td>Moderate</td>\n",
       "      <td>55</td>\n",
       "    </tr>\n",
       "    <tr>\n",
       "      <th>3</th>\n",
       "      <td>2022-07-21</td>\n",
       "      <td>Angola</td>\n",
       "      <td>Unhealthy for Sensitive Groups</td>\n",
       "      <td>113</td>\n",
       "    </tr>\n",
       "    <tr>\n",
       "      <th>4</th>\n",
       "      <td>2022-07-21</td>\n",
       "      <td>Argentina</td>\n",
       "      <td>Moderate</td>\n",
       "      <td>63</td>\n",
       "    </tr>\n",
       "    <tr>\n",
       "      <th>...</th>\n",
       "      <td>...</td>\n",
       "      <td>...</td>\n",
       "      <td>...</td>\n",
       "      <td>...</td>\n",
       "    </tr>\n",
       "    <tr>\n",
       "      <th>10124</th>\n",
       "      <td>2023-01-12</td>\n",
       "      <td>Uzbekistan</td>\n",
       "      <td>Unhealthy</td>\n",
       "      <td>152</td>\n",
       "    </tr>\n",
       "    <tr>\n",
       "      <th>10125</th>\n",
       "      <td>2023-01-12</td>\n",
       "      <td>Vatican</td>\n",
       "      <td>Good</td>\n",
       "      <td>46</td>\n",
       "    </tr>\n",
       "    <tr>\n",
       "      <th>10126</th>\n",
       "      <td>2023-01-12</td>\n",
       "      <td>Venezuela</td>\n",
       "      <td>Good</td>\n",
       "      <td>24</td>\n",
       "    </tr>\n",
       "    <tr>\n",
       "      <th>10127</th>\n",
       "      <td>2023-01-12</td>\n",
       "      <td>Vietnam</td>\n",
       "      <td>Unhealthy for Sensitive Groups</td>\n",
       "      <td>105</td>\n",
       "    </tr>\n",
       "    <tr>\n",
       "      <th>10128</th>\n",
       "      <td>2023-01-12</td>\n",
       "      <td>Zambia</td>\n",
       "      <td>Moderate</td>\n",
       "      <td>59</td>\n",
       "    </tr>\n",
       "  </tbody>\n",
       "</table>\n",
       "<p>10129 rows × 4 columns</p>\n",
       "</div>"
      ],
      "text/plain": [
       "             Date     Country                          Status  AQI Value\n",
       "0      2022-07-21     Albania                            Good         14\n",
       "1      2022-07-21     Algeria                        Moderate         65\n",
       "2      2022-07-21     Andorra                        Moderate         55\n",
       "3      2022-07-21      Angola  Unhealthy for Sensitive Groups        113\n",
       "4      2022-07-21   Argentina                        Moderate         63\n",
       "...           ...         ...                             ...        ...\n",
       "10124  2023-01-12  Uzbekistan                       Unhealthy        152\n",
       "10125  2023-01-12     Vatican                            Good         46\n",
       "10126  2023-01-12   Venezuela                            Good         24\n",
       "10127  2023-01-12     Vietnam  Unhealthy for Sensitive Groups        105\n",
       "10128  2023-01-12      Zambia                        Moderate         59\n",
       "\n",
       "[10129 rows x 4 columns]"
      ]
     },
     "execution_count": 13,
     "metadata": {},
     "output_type": "execute_result"
    }
   ],
   "source": [
    "aqi = pd.read_csv(\"aqi.csv\")\n",
    "aqi.head()"
   ]
  },
  {
   "cell_type": "code",
   "execution_count": null,
   "metadata": {},
   "outputs": [],
   "source": []
  }
 ],
 "metadata": {
  "kernelspec": {
   "display_name": "Python 3",
   "language": "python",
   "name": "python3"
  },
  "language_info": {
   "codemirror_mode": {
    "name": "ipython",
    "version": 3
   },
   "file_extension": ".py",
   "mimetype": "text/x-python",
   "name": "python",
   "nbconvert_exporter": "python",
   "pygments_lexer": "ipython3",
   "version": "3.9.2"
  },
  "orig_nbformat": 4,
  "vscode": {
   "interpreter": {
    "hash": "de3d6d0e1de668cd884062fca2b32ba99a936cc0d9916fb911d3862e61d2b4cd"
   }
  }
 },
 "nbformat": 4,
 "nbformat_minor": 2
}
